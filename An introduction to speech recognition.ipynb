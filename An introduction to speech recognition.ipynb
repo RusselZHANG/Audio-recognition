{
 "cells": [
  {
   "cell_type": "markdown",
   "metadata": {},
   "source": [
    "# Speech Recognization"
   ]
  },
  {
   "cell_type": "code",
   "execution_count": 1,
   "metadata": {},
   "outputs": [
    {
     "name": "stdout",
     "output_type": "stream",
     "text": [
      "3.8.1\n"
     ]
    }
   ],
   "source": [
    "import speech_recognition as sr\n",
    "from playsound import playsound\n",
    "print(sr.__version__)"
   ]
  },
  {
   "cell_type": "code",
   "execution_count": 2,
   "metadata": {},
   "outputs": [],
   "source": [
    "playsound('audio_files\\cnhello.mp3')"
   ]
  },
  {
   "cell_type": "markdown",
   "metadata": {},
   "source": [
    "##  Test of harvard "
   ]
  },
  {
   "cell_type": "code",
   "execution_count": 5,
   "metadata": {},
   "outputs": [
    {
     "data": {
      "text/plain": [
       "speech_recognition.AudioData"
      ]
     },
     "execution_count": 5,
     "metadata": {},
     "output_type": "execute_result"
    }
   ],
   "source": [
    "r = sr.Recognizer()\n",
    "harvard = sr.AudioFile('audio_files\\harvard.wav')\n",
    "\n",
    "with harvard as source:                # must be entered: necessary to use source\n",
    "    audio = r.record(harvard)\n",
    "type(audio)"
   ]
  },
  {
   "cell_type": "code",
   "execution_count": 6,
   "metadata": {},
   "outputs": [
    {
     "data": {
      "text/plain": [
       "\"this they'll smell of old we're lingers it takes heat to bring out the odor called it restores health and zest case all the colt is fine with him couples all pastore my favorite is as full food is the hot cross mon\""
      ]
     },
     "execution_count": 6,
     "metadata": {},
     "output_type": "execute_result"
    }
   ],
   "source": [
    "r.recognize_sphinx(audio)"
   ]
  },
  {
   "cell_type": "markdown",
   "metadata": {},
   "source": [
    "##  Test of jackhammer: extremely noisy speech"
   ]
  },
  {
   "cell_type": "code",
   "execution_count": 7,
   "metadata": {},
   "outputs": [],
   "source": [
    "jackhammer  = sr.AudioFile('audio_files\\jackhammer.wav')\n",
    "with jackhammer  as source:\n",
    "   audio = r.record(source)"
   ]
  },
  {
   "cell_type": "code",
   "execution_count": 22,
   "metadata": {},
   "outputs": [
    {
     "data": {
      "text/plain": [
       "\"flipped over there won't be the one who is in his hands up where i can show and and for up to and whoa ahead and get that feed on commercially and we're the zone go out to them anywhere anyhow whooped and who\""
      ]
     },
     "execution_count": 22,
     "metadata": {},
     "output_type": "execute_result"
    }
   ],
   "source": [
    "type(jackhammer )\n",
    "playsound('audio_files\\jackhammer.wav') # I can't hear the speech clearly\n",
    "r.recognize_sphinx(audio)"
   ]
  },
  {
   "cell_type": "markdown",
   "metadata": {},
   "source": [
    "## introduce microphone "
   ]
  },
  {
   "cell_type": "code",
   "execution_count": 173,
   "metadata": {},
   "outputs": [
    {
     "data": {
      "text/plain": [
       "speech_recognition.Microphone"
      ]
     },
     "execution_count": 173,
     "metadata": {},
     "output_type": "execute_result"
    }
   ],
   "source": [
    "r = sr.Recognizer()\n",
    "mic = sr.Microphone()\n",
    "sr.Microphone.list_microphone_names()\n",
    "type(mic)"
   ]
  },
  {
   "cell_type": "code",
   "execution_count": 272,
   "metadata": {},
   "outputs": [
    {
     "data": {
      "text/plain": [
       "'larry want'"
      ]
     },
     "execution_count": 272,
     "metadata": {},
     "output_type": "execute_result"
    }
   ],
   "source": [
    "with mic as source:  # source from microphone\n",
    "    r.adjust_for_ambient_noise(source)  # reduce the ambient noise\n",
    "    audio = r.listen(source)\n",
    "    \n",
    "    \n",
    "r.recognize_sphinx(audio)"
   ]
  },
  {
   "cell_type": "code",
   "execution_count": 178,
   "metadata": {},
   "outputs": [],
   "source": [
    "import simpleaudio as sa"
   ]
  },
  {
   "cell_type": "code",
   "execution_count": 179,
   "metadata": {},
   "outputs": [
    {
     "data": {
      "text/plain": [
       "\"this they'll smell of old we're lingers it takes heat to bring out the odor called it restores health and zest case all the colt is fine with him couples all pastore my favorite is as full food is the hot cross mon\""
      ]
     },
     "execution_count": 179,
     "metadata": {},
     "output_type": "execute_result"
    }
   ],
   "source": [
    "harvard = sr.AudioFile('audio_files\\harvard.wav')\n",
    "with harvard as source:                # must be entered: necessary to use source\n",
    "    audio = r.record(harvard)\n",
    "r.recognize_sphinx(audio) # language='zh-tw' -> 繁體中文"
   ]
  },
  {
   "cell_type": "code",
   "execution_count": 180,
   "metadata": {},
   "outputs": [
    {
     "name": "stdout",
     "output_type": "stream",
     "text": [
      "2.1.1\n"
     ]
    }
   ],
   "source": [
    "import gtts \n",
    "from gtts import gTTS\n",
    "print(gtts.__version__)\n",
    "import pyttsx3"
   ]
  },
  {
   "cell_type": "code",
   "execution_count": 72,
   "metadata": {},
   "outputs": [],
   "source": [
    "engine = pyttsx3.init()     # play the text2speech\n",
    "engine.say(\"I will speak this text\")\n",
    "engine.say(\"台灣是個美麗的寶島\")\n",
    "engine.runAndWait()"
   ]
  },
  {
   "cell_type": "code",
   "execution_count": 269,
   "metadata": {},
   "outputs": [],
   "source": [
    "tw = \" 我想念我的兔子! \"\n",
    "obj = gTTS(text = tw, slow = False, lang = 'zh-tw') ## en \n",
    "obj.save('audio_files\\Tutu.mp3')"
   ]
  },
  {
   "cell_type": "code",
   "execution_count": null,
   "metadata": {},
   "outputs": [],
   "source": []
  },
  {
   "cell_type": "code",
   "execution_count": 270,
   "metadata": {},
   "outputs": [],
   "source": [
    "Answer = {\n",
    "  'tell me'    : '拜喆喆是最漂亮的女孩子',\n",
    "  'how about me'    : '看出来你喜欢她，加油小伙子',\n",
    "  'thank you'    : '拜拜，有缘再见'\n",
    "}"
   ]
  },
  {
   "cell_type": "code",
   "execution_count": 271,
   "metadata": {},
   "outputs": [],
   "source": [
    "playsound('audio_files\\Tutu.mp3')"
   ]
  },
  {
   "cell_type": "markdown",
   "metadata": {},
   "source": [
    "## Q-A Robot\n"
   ]
  },
  {
   "cell_type": "code",
   "execution_count": 239,
   "metadata": {},
   "outputs": [],
   "source": [
    "import time\n",
    "import logging\n",
    "import tempfile\n",
    "from gtts import gTTS\n",
    "from pygame import mixer\n",
    "mixer.init()\n",
    "import speech_recognition\n",
    "\n",
    "def speak(sentence):\n",
    "    \n",
    "    logging.info('Generate TTS audio file with text [%s]' % sentence)\n",
    "\n",
    "    namePrefix = time.strftime(\"tts-%Y-%m-%d-%H-%M-%S-\")\n",
    "    nameSuffix = '.mp3'\n",
    "    \n",
    "    tts = gTTS(text=sentence, lang='zh-tw')\n",
    "    \n",
    "    tts.save(\"{}.mp3\".format(namePrefix + nameSuffix))\n",
    "    mixer.music.load('{}.mp3'.format(namePrefix + nameSuffix))\n",
    "    mixer.music.play()\n",
    "        \n",
    "speak('大家好!祝大家有個美好的一天')"
   ]
  },
  {
   "cell_type": "code",
   "execution_count": 242,
   "metadata": {},
   "outputs": [],
   "source": [
    "\n",
    "\n",
    "def listenTo():\n",
    "    r = speech_recognition.Recognizer()\n",
    "\n",
    "    with speech_recognition.Microphone() as source:\n",
    "        r.adjust_for_ambient_noise(source)\n",
    "        audio = r.listen(source)\n",
    "    print(r.recognize_sphinx(audio))\n",
    "    return r.recognize_sphinx(audio)"
   ]
  },
  {
   "cell_type": "code",
   "execution_count": 268,
   "metadata": {},
   "outputs": [
    {
     "name": "stdout",
     "output_type": "stream",
     "text": [
      "thank you\n"
     ]
    }
   ],
   "source": [
    "speak(Answer.get(listenTo(), 'I can not understand'))"
   ]
  }
 ],
 "metadata": {
  "kernelspec": {
   "display_name": "Python 3",
   "language": "python",
   "name": "python3"
  },
  "language_info": {
   "codemirror_mode": {
    "name": "ipython",
    "version": 3
   },
   "file_extension": ".py",
   "mimetype": "text/x-python",
   "name": "python",
   "nbconvert_exporter": "python",
   "pygments_lexer": "ipython3",
   "version": "3.7.1"
  }
 },
 "nbformat": 4,
 "nbformat_minor": 2
}
